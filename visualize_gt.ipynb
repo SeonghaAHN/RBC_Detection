{
 "cells": [
  {
   "cell_type": "markdown",
   "metadata": {},
   "source": [
    "## Generate GT image"
   ]
  },
  {
   "cell_type": "markdown",
   "metadata": {},
   "source": [
    "### Install requirments  \n",
    "Skip this if you have already installed all requirments"
   ]
  },
  {
   "cell_type": "code",
   "execution_count": null,
   "metadata": {},
   "outputs": [],
   "source": [
    "!pip install opencv-python\n",
    "!pip install scikit-image\n",
    "!pip install matplotlib"
   ]
  },
  {
   "cell_type": "markdown",
   "metadata": {},
   "source": [
    "## Read test data and .xml label file"
   ]
  },
  {
   "cell_type": "code",
   "execution_count": null,
   "metadata": {},
   "outputs": [],
   "source": [
    "%matplotlib inline\n",
    "\n",
    "import numpy as np\n",
    "import cv2\n",
    "from skimage.measure import compare_ssim\n",
    "import os\n",
    "import matplotlib.pyplot as plt\n",
    "from matplotlib.patches import Rectangle\n",
    "from PIL import Image, ImageDraw\n",
    "import glob\n",
    "from xml.dom import minidom\n",
    "\n",
    "!ls\n",
    "\n"
   ]
  },
  {
   "cell_type": "markdown",
   "metadata": {},
   "source": [
    "## Visualize GT bounding box "
   ]
  },
  {
   "cell_type": "code",
   "execution_count": null,
   "metadata": {},
   "outputs": [],
   "source": [
    "for fname in glob.glob(\"*.xml\"): #xml file\n",
    "    xmldoc = minidom.parse(fname)\n",
    "    itemlist = xmldoc.getElementsByTagName('object')\n",
    "    fname_txt = os.path.splitext(fname)\n",
    "    im = Image.open(fname_txt[0] + \".jpg\")\n",
    "\n",
    "    for item in itemlist:    \n",
    "        xmldoc = minidom.parse(fname)\n",
    "        xmin = ((item.getElementsByTagName('bndbox')[0]).getElementsByTagName('xmin')[0]).firstChild.data\n",
    "        ymin = ((item.getElementsByTagName('bndbox')[0]).getElementsByTagName('ymin')[0]).firstChild.data\n",
    "        xmax = ((item.getElementsByTagName('bndbox')[0]).getElementsByTagName('xmax')[0]).firstChild.data\n",
    "        ymax = ((item.getElementsByTagName('bndbox')[0]).getElementsByTagName('ymax')[0]).firstChild.data\n",
    "        \n",
    "        xmin = float(xmin)\n",
    "        ymin = float(ymin)\n",
    "        xmax = float(xmax)\n",
    "        ymax = float(ymax)\n",
    "        \n",
    "        shape = [(xmin, ymin),(xmax, ymax)]\n",
    "        \n",
    "        draw = ImageDraw.Draw(im)\n",
    "        draw.rectangle(shape, outline=\"red\")\n",
    "    \n",
    "    #save gt bbox image\n",
    "    im.save(fname_txt[0] + \"_gt.jpeg\")"
   ]
  }
 ],
 "metadata": {
  "kernelspec": {
   "display_name": "Python 3",
   "language": "python",
   "name": "python3"
  },
  "language_info": {
   "codemirror_mode": {
    "name": "ipython",
    "version": 3
   },
   "file_extension": ".py",
   "mimetype": "text/x-python",
   "name": "python",
   "nbconvert_exporter": "python",
   "pygments_lexer": "ipython3",
   "version": "3.6.10"
  }
 },
 "nbformat": 4,
 "nbformat_minor": 2
}
